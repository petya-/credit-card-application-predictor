{
 "cells": [
  {
   "cell_type": "code",
   "execution_count": 311,
   "metadata": {},
   "outputs": [],
   "source": [
    "# Uncomment the line below with you python version\n",
    "# if this is the first time you are running the notebook\n",
    "\n",
    "#!pip install category_encoders\n",
    "#!pip3 install category_encoders"
   ]
  },
  {
   "cell_type": "code",
   "execution_count": 312,
   "metadata": {},
   "outputs": [],
   "source": [
    "#imports\n",
    "import os\n",
    "import matplotlib.pyplot as plt\n",
    "import seaborn as sns\n",
    "import pandas as pd\n",
    "import numpy as np \n",
    "import category_encoders as ce\n",
    "\n",
    "from six.moves import urllib\n",
    "from sklearn import preprocessing\n",
    "from sklearn.model_selection import train_test_split, cross_val_score, cross_val_predict\n",
    "from sklearn.preprocessing import MinMaxScaler, LabelEncoder, OneHotEncoder, StandardScaler\n",
    "from sklearn.linear_model import LogisticRegression\n",
    "from sklearn import metrics\n",
    "from sklearn.model_selection import GridSearchCV, RandomizedSearchCV\n",
    "from sklearn import svm\n",
    "from sklearn.ensemble import RandomForestClassifier\n",
    "from sklearn.naive_bayes import GaussianNB"
   ]
  },
  {
   "cell_type": "code",
   "execution_count": 313,
   "metadata": {},
   "outputs": [],
   "source": [
    "DOWNLOAD_ROOT = \"http://archive.ics.uci.edu/ml/machine-learning-databases/credit-screening\"\n",
    "CREDIT_DATA_URL = DOWNLOAD_ROOT + \"/crx.data\"\n",
    "CREDIT_DATA_PATH = \"datasets/credit-screening\""
   ]
  },
  {
   "cell_type": "code",
   "execution_count": 314,
   "metadata": {},
   "outputs": [],
   "source": [
    "# fetch data from its origin\n",
    "def fetch_credit_card_data(credit_data_url=CREDIT_DATA_URL, credit_path=CREDIT_DATA_PATH):\n",
    "    if not os.path.isdir(credit_path):\n",
    "        os.makedirs(credit_path)\n",
    "    credit_data_path = os.path.join(credit_path, \"crx.data\")\n",
    "    urllib.request.urlretrieve(credit_data_url, credit_data_path)\n",
    "\n",
    "fetch_credit_card_data()"
   ]
  },
  {
   "cell_type": "code",
   "execution_count": 315,
   "metadata": {},
   "outputs": [],
   "source": [
    "# load data from csv file \n",
    "def load_credit_card_data(credit_data_path=CREDIT_DATA_PATH):\n",
    "    csv_path=os.path.join(credit_data_path, \"crx.data\")\n",
    "    pd.set_option('display.max_columns', None)\n",
    "    col_names = [\"Gender\",\"Age\",\"Debt\",\"Married\",\"BankCustomer\",\"EducationLevel\",\"Ethnicity\",\"YearsEmployed\",\"PriorDefault\",\"Employed\",\"CreditScore\", \"DriversLicense\", \"Citizen\", \"ZipCode\", \"Income\" , \"ApprovalStatus\"]\n",
    "    return pd.read_csv(csv_path, header=None, names=col_names)\n",
    "\n",
    "dataset = load_credit_card_data()\n",
    "dataframe = dataset.copy()\n"
   ]
  },
  {
   "cell_type": "code",
   "execution_count": 316,
   "metadata": {},
   "outputs": [],
   "source": [
    "dataset = dataset.drop(['DriversLicense', 'ZipCode', 'BankCustomer', 'Gender'], axis=1)\n",
    "\n",
    "# replace question mark with NaN\n",
    "# replace + and - with 1 and 0\n",
    "dataset = dataset.replace(\"?\", np.nan).replace('+', 1).replace('-', 0)\n",
    "\n",
    "# convert age from object to float\n",
    "dataset = dataset.astype({\"Age\": float})\n",
    "#replace missing numeric values with mean\n",
    "\n",
    "dataset.fillna(dataset.mean(), inplace=True)\n",
    "dataset.head(5)\n",
    "\n",
    "# replace missing object values with the most freequent value\n",
    "for col in dataset:\n",
    "    if dataset[col].dtypes == 'object':\n",
    "        dataset = dataset.fillna(dataset[col].value_counts().index[0])"
   ]
  },
  {
   "cell_type": "code",
   "execution_count": 317,
   "metadata": {},
   "outputs": [
    {
     "data": {
      "text/plain": [
       "0    383\n",
       "1    307\n",
       "Name: ApprovalStatus, dtype: int64"
      ]
     },
     "execution_count": 317,
     "metadata": {},
     "output_type": "execute_result"
    }
   ],
   "source": [
    "dataset['ApprovalStatus'].value_counts()"
   ]
  },
  {
   "cell_type": "code",
   "execution_count": 318,
   "metadata": {},
   "outputs": [
    {
     "data": {
      "text/plain": [
       "<matplotlib.axes._subplots.AxesSubplot at 0x1334b7ac8>"
      ]
     },
     "execution_count": 318,
     "metadata": {},
     "output_type": "execute_result"
    },
    {
     "data": {
      "image/png": "[encoded data removed]",
      "text/plain": [
       "<Figure size 432x288 with 1 Axes>"
      ]
     },
     "metadata": {
      "needs_background": "light"
     },
     "output_type": "display_data"
    }
   ],
   "source": [
    "CountStatus = pd.value_counts(dataset['ApprovalStatus'].values, sort=False)\n",
    "plt.ylabel('Number of applications')\n",
    "plt.title('Approval status')\n",
    "CountStatus.plot.bar()"
   ]
  },
  {
   "cell_type": "code",
   "execution_count": 319,
   "metadata": {},
   "outputs": [
    {
     "data": {
      "text/plain": [
       "Age               float64\n",
       "Debt              float64\n",
       "Married            object\n",
       "EducationLevel     object\n",
       "Ethnicity          object\n",
       "YearsEmployed     float64\n",
       "PriorDefault       object\n",
       "Employed           object\n",
       "CreditScore         int64\n",
       "Citizen            object\n",
       "Income              int64\n",
       "ApprovalStatus      int64\n",
       "dtype: object"
      ]
     },
     "execution_count": 319,
     "metadata": {},
     "output_type": "execute_result"
    }
   ],
   "source": [
    "dataset.dtypes"
   ]
  },
  {
   "cell_type": "code",
   "execution_count": 320,
   "metadata": {},
   "outputs": [
    {
     "data": {
      "text/plain": [
       "Age               float64\n",
       "Debt              float64\n",
       "Married            object\n",
       "EducationLevel     object\n",
       "Ethnicity          object\n",
       "YearsEmployed     float64\n",
       "PriorDefault       object\n",
       "Employed           object\n",
       "CreditScore         int64\n",
       "Citizen            object\n",
       "Income              int64\n",
       "ApprovalStatus      int64\n",
       "dtype: object"
      ]
     },
     "execution_count": 320,
     "metadata": {},
     "output_type": "execute_result"
    }
   ],
   "source": [
    "# Label encode for correlation\n",
    "le = preprocessing.LabelEncoder()\n",
    "\n",
    "labelEncodedSet = dataset.copy()\n",
    "for col in dataset:\n",
    "    if labelEncodedSet[col].dtypes == 'object':\n",
    "        labelEncodedSet[col]=le.fit_transform(labelEncodedSet[col])\n",
    "\n",
    "dataset.dtypes"
   ]
  },
  {
   "cell_type": "code",
   "execution_count": 321,
   "metadata": {},
   "outputs": [
    {
     "data": {
      "text/plain": [
       "array([[<matplotlib.axes._subplots.AxesSubplot object at 0x1349b20b8>,\n",
       "        <matplotlib.axes._subplots.AxesSubplot object at 0x12fd59c50>,\n",
       "        <matplotlib.axes._subplots.AxesSubplot object at 0x133367898>],\n",
       "       [<matplotlib.axes._subplots.AxesSubplot object at 0x134a06e10>,\n",
       "        <matplotlib.axes._subplots.AxesSubplot object at 0x1333153c8>,\n",
       "        <matplotlib.axes._subplots.AxesSubplot object at 0x132132940>],\n",
       "       [<matplotlib.axes._subplots.AxesSubplot object at 0x1333d5eb8>,\n",
       "        <matplotlib.axes._subplots.AxesSubplot object at 0x1334054a8>,\n",
       "        <matplotlib.axes._subplots.AxesSubplot object at 0x1334054e0>],\n",
       "       [<matplotlib.axes._subplots.AxesSubplot object at 0x133d38f60>,\n",
       "        <matplotlib.axes._subplots.AxesSubplot object at 0x133d67518>,\n",
       "        <matplotlib.axes._subplots.AxesSubplot object at 0x133d8ea90>]],\n",
       "      dtype=object)"
      ]
     },
     "execution_count": 321,
     "metadata": {},
     "output_type": "execute_result"
    },
    {
     "data": {
      "image/png": "[encoded data removed]",
      "text/plain": [
       "<Figure size 1440x1080 with 12 Axes>"
      ]
     },
     "metadata": {
      "needs_background": "light"
     },
     "output_type": "display_data"
    }
   ],
   "source": [
    "labelEncodedSet.hist(bins=20, figsize=(20, 15))"
   ]
  },
  {
   "cell_type": "code",
   "execution_count": 322,
   "metadata": {},
   "outputs": [
    {
     "data": {
      "image/png": "[encoded data removed]",
      "text/plain": [
       "<Figure size 432x288 with 2 Axes>"
      ]
     },
     "metadata": {
      "needs_background": "light"
     },
     "output_type": "display_data"
    }
   ],
   "source": [
    "#Correlation heatmap\n",
    "def make_corr_heatmap(data):\n",
    "    corr = data.corr()\n",
    "    sns.heatmap(corr, \n",
    "                xticklabels=corr.columns.values,\n",
    "                yticklabels=corr.columns.values)\n",
    "\n",
    "make_corr_heatmap(labelEncodedSet)"
   ]
  },
  {
   "cell_type": "code",
   "execution_count": 323,
   "metadata": {},
   "outputs": [
    {
     "data": {
      "text/plain": [
       "Married          -0.194306\n",
       "Citizen          -0.100867\n",
       "Ethnicity        -0.005249\n",
       "EducationLevel    0.135625\n",
       "Age               0.161627\n",
       "Income            0.175657\n",
       "Debt              0.206294\n",
       "YearsEmployed     0.322475\n",
       "CreditScore       0.406410\n",
       "Employed          0.458301\n",
       "PriorDefault      0.720407\n",
       "ApprovalStatus    1.000000\n",
       "Name: ApprovalStatus, dtype: float64"
      ]
     },
     "execution_count": 323,
     "metadata": {},
     "output_type": "execute_result"
    }
   ],
   "source": [
    "#Correlation with ApprovalStatus\n",
    "labelEncodedSet.corr()['ApprovalStatus'].sort_values()"
   ]
  },
  {
   "cell_type": "code",
   "execution_count": 324,
   "metadata": {},
   "outputs": [
    {
     "data": {
      "text/plain": [
       "Age                  9.307123\n",
       "Debt                 3.941786\n",
       "Married              0.362222\n",
       "EducationLevel       3.949422\n",
       "Ethnicity            2.786221\n",
       "YearsEmployed        2.223883\n",
       "PriorDefault         0.498925\n",
       "Employed             0.489498\n",
       "CreditScore          3.088116\n",
       "Citizen              0.320311\n",
       "Income            1533.165402\n",
       "ApprovalStatus       0.493934\n",
       "dtype: float64"
      ]
     },
     "execution_count": 324,
     "metadata": {},
     "output_type": "execute_result"
    }
   ],
   "source": [
    "#use MAD to check the spread of the observation from the mean. MAD > std because we have outliers like age, income\n",
    "labelEncodedSet.mad()"
   ]
  },
  {
   "cell_type": "code",
   "execution_count": 325,
   "metadata": {},
   "outputs": [
    {
     "data": {
      "text/html": [
       "<div>\n",
       "<style scoped>\n",
       "    .dataframe tbody tr th:only-of-type {\n",
       "        vertical-align: middle;\n",
       "    }\n",
       "\n",
       "    .dataframe tbody tr th {\n",
       "        vertical-align: top;\n",
       "    }\n",
       "\n",
       "    .dataframe thead th {\n",
       "        text-align: right;\n",
       "    }\n",
       "</style>\n",
       "<table border=\"1\" class=\"dataframe\">\n",
       "  <thead>\n",
       "    <tr style=\"text-align: right;\">\n",
       "      <th></th>\n",
       "      <th>Age</th>\n",
       "      <th>Debt</th>\n",
       "      <th>Married</th>\n",
       "      <th>EducationLevel</th>\n",
       "      <th>Ethnicity</th>\n",
       "      <th>YearsEmployed</th>\n",
       "      <th>PriorDefault</th>\n",
       "      <th>Employed</th>\n",
       "      <th>CreditScore</th>\n",
       "      <th>Citizen</th>\n",
       "      <th>Income</th>\n",
       "      <th>ApprovalStatus</th>\n",
       "    </tr>\n",
       "  </thead>\n",
       "  <tbody>\n",
       "    <tr>\n",
       "      <th>0</th>\n",
       "      <td>30.83</td>\n",
       "      <td>0.000</td>\n",
       "      <td>u</td>\n",
       "      <td>w</td>\n",
       "      <td>v</td>\n",
       "      <td>1.25</td>\n",
       "      <td>t</td>\n",
       "      <td>t</td>\n",
       "      <td>1</td>\n",
       "      <td>g</td>\n",
       "      <td>0</td>\n",
       "      <td>1</td>\n",
       "    </tr>\n",
       "    <tr>\n",
       "      <th>1</th>\n",
       "      <td>58.67</td>\n",
       "      <td>4.460</td>\n",
       "      <td>u</td>\n",
       "      <td>q</td>\n",
       "      <td>h</td>\n",
       "      <td>3.04</td>\n",
       "      <td>t</td>\n",
       "      <td>t</td>\n",
       "      <td>6</td>\n",
       "      <td>g</td>\n",
       "      <td>560</td>\n",
       "      <td>1</td>\n",
       "    </tr>\n",
       "    <tr>\n",
       "      <th>2</th>\n",
       "      <td>24.50</td>\n",
       "      <td>0.500</td>\n",
       "      <td>u</td>\n",
       "      <td>q</td>\n",
       "      <td>h</td>\n",
       "      <td>1.50</td>\n",
       "      <td>t</td>\n",
       "      <td>f</td>\n",
       "      <td>0</td>\n",
       "      <td>g</td>\n",
       "      <td>824</td>\n",
       "      <td>1</td>\n",
       "    </tr>\n",
       "    <tr>\n",
       "      <th>3</th>\n",
       "      <td>27.83</td>\n",
       "      <td>1.540</td>\n",
       "      <td>u</td>\n",
       "      <td>w</td>\n",
       "      <td>v</td>\n",
       "      <td>3.75</td>\n",
       "      <td>t</td>\n",
       "      <td>t</td>\n",
       "      <td>5</td>\n",
       "      <td>g</td>\n",
       "      <td>3</td>\n",
       "      <td>1</td>\n",
       "    </tr>\n",
       "    <tr>\n",
       "      <th>4</th>\n",
       "      <td>20.17</td>\n",
       "      <td>5.625</td>\n",
       "      <td>u</td>\n",
       "      <td>w</td>\n",
       "      <td>v</td>\n",
       "      <td>1.71</td>\n",
       "      <td>t</td>\n",
       "      <td>f</td>\n",
       "      <td>0</td>\n",
       "      <td>s</td>\n",
       "      <td>0</td>\n",
       "      <td>1</td>\n",
       "    </tr>\n",
       "  </tbody>\n",
       "</table>\n",
       "</div>"
      ],
      "text/plain": [
       "     Age   Debt Married EducationLevel Ethnicity  YearsEmployed PriorDefault  \\\n",
       "0  30.83  0.000       u              w         v           1.25            t   \n",
       "1  58.67  4.460       u              q         h           3.04            t   \n",
       "2  24.50  0.500       u              q         h           1.50            t   \n",
       "3  27.83  1.540       u              w         v           3.75            t   \n",
       "4  20.17  5.625       u              w         v           1.71            t   \n",
       "\n",
       "  Employed  CreditScore Citizen  Income  ApprovalStatus  \n",
       "0        t            1       g       0               1  \n",
       "1        t            6       g     560               1  \n",
       "2        f            0       g     824               1  \n",
       "3        t            5       g       3               1  \n",
       "4        f            0       s       0               1  "
      ]
     },
     "execution_count": 325,
     "metadata": {},
     "output_type": "execute_result"
    }
   ],
   "source": [
    "#drop columns with the lowest correlation, or columns that do not make sense\n",
    "#dataset = dataset.drop(['DriversLicense', 'ZipCode', 'Ethnicity', 'Gender'], axis=1)\n",
    "dataset.head()"
   ]
  },
  {
   "cell_type": "code",
   "execution_count": 326,
   "metadata": {},
   "outputs": [
    {
     "data": {
      "text/html": [
       "<div>\n",
       "<style scoped>\n",
       "    .dataframe tbody tr th:only-of-type {\n",
       "        vertical-align: middle;\n",
       "    }\n",
       "\n",
       "    .dataframe tbody tr th {\n",
       "        vertical-align: top;\n",
       "    }\n",
       "\n",
       "    .dataframe thead th {\n",
       "        text-align: right;\n",
       "    }\n",
       "</style>\n",
       "<table border=\"1\" class=\"dataframe\">\n",
       "  <thead>\n",
       "    <tr style=\"text-align: right;\">\n",
       "      <th></th>\n",
       "      <th>Age</th>\n",
       "      <th>Debt</th>\n",
       "      <th>Married_u</th>\n",
       "      <th>Married_y</th>\n",
       "      <th>Married_l</th>\n",
       "      <th>EducationLevel_w</th>\n",
       "      <th>EducationLevel_q</th>\n",
       "      <th>EducationLevel_m</th>\n",
       "      <th>EducationLevel_r</th>\n",
       "      <th>EducationLevel_cc</th>\n",
       "      <th>EducationLevel_k</th>\n",
       "      <th>EducationLevel_c</th>\n",
       "      <th>EducationLevel_d</th>\n",
       "      <th>EducationLevel_x</th>\n",
       "      <th>EducationLevel_i</th>\n",
       "      <th>EducationLevel_e</th>\n",
       "      <th>EducationLevel_aa</th>\n",
       "      <th>EducationLevel_ff</th>\n",
       "      <th>EducationLevel_j</th>\n",
       "      <th>EducationLevel_u</th>\n",
       "      <th>Ethnicity_v</th>\n",
       "      <th>Ethnicity_h</th>\n",
       "      <th>Ethnicity_bb</th>\n",
       "      <th>Ethnicity_ff</th>\n",
       "      <th>Ethnicity_j</th>\n",
       "      <th>Ethnicity_z</th>\n",
       "      <th>Ethnicity_u</th>\n",
       "      <th>Ethnicity_o</th>\n",
       "      <th>Ethnicity_dd</th>\n",
       "      <th>Ethnicity_n</th>\n",
       "      <th>YearsEmployed</th>\n",
       "      <th>PriorDefault_t</th>\n",
       "      <th>PriorDefault_f</th>\n",
       "      <th>Employed_t</th>\n",
       "      <th>Employed_f</th>\n",
       "      <th>CreditScore</th>\n",
       "      <th>Citizen_g</th>\n",
       "      <th>Citizen_s</th>\n",
       "      <th>Citizen_p</th>\n",
       "      <th>Income</th>\n",
       "      <th>ApprovalStatus</th>\n",
       "    </tr>\n",
       "  </thead>\n",
       "  <tbody>\n",
       "    <tr>\n",
       "      <th>0</th>\n",
       "      <td>30.83</td>\n",
       "      <td>0.000</td>\n",
       "      <td>1</td>\n",
       "      <td>0</td>\n",
       "      <td>0</td>\n",
       "      <td>1</td>\n",
       "      <td>0</td>\n",
       "      <td>0</td>\n",
       "      <td>0</td>\n",
       "      <td>0</td>\n",
       "      <td>0</td>\n",
       "      <td>0</td>\n",
       "      <td>0</td>\n",
       "      <td>0</td>\n",
       "      <td>0</td>\n",
       "      <td>0</td>\n",
       "      <td>0</td>\n",
       "      <td>0</td>\n",
       "      <td>0</td>\n",
       "      <td>0</td>\n",
       "      <td>1</td>\n",
       "      <td>0</td>\n",
       "      <td>0</td>\n",
       "      <td>0</td>\n",
       "      <td>0</td>\n",
       "      <td>0</td>\n",
       "      <td>0</td>\n",
       "      <td>0</td>\n",
       "      <td>0</td>\n",
       "      <td>0</td>\n",
       "      <td>1.25</td>\n",
       "      <td>1</td>\n",
       "      <td>0</td>\n",
       "      <td>1</td>\n",
       "      <td>0</td>\n",
       "      <td>1</td>\n",
       "      <td>1</td>\n",
       "      <td>0</td>\n",
       "      <td>0</td>\n",
       "      <td>0</td>\n",
       "      <td>1</td>\n",
       "    </tr>\n",
       "    <tr>\n",
       "      <th>1</th>\n",
       "      <td>58.67</td>\n",
       "      <td>4.460</td>\n",
       "      <td>1</td>\n",
       "      <td>0</td>\n",
       "      <td>0</td>\n",
       "      <td>0</td>\n",
       "      <td>1</td>\n",
       "      <td>0</td>\n",
       "      <td>0</td>\n",
       "      <td>0</td>\n",
       "      <td>0</td>\n",
       "      <td>0</td>\n",
       "      <td>0</td>\n",
       "      <td>0</td>\n",
       "      <td>0</td>\n",
       "      <td>0</td>\n",
       "      <td>0</td>\n",
       "      <td>0</td>\n",
       "      <td>0</td>\n",
       "      <td>0</td>\n",
       "      <td>0</td>\n",
       "      <td>1</td>\n",
       "      <td>0</td>\n",
       "      <td>0</td>\n",
       "      <td>0</td>\n",
       "      <td>0</td>\n",
       "      <td>0</td>\n",
       "      <td>0</td>\n",
       "      <td>0</td>\n",
       "      <td>0</td>\n",
       "      <td>3.04</td>\n",
       "      <td>1</td>\n",
       "      <td>0</td>\n",
       "      <td>1</td>\n",
       "      <td>0</td>\n",
       "      <td>6</td>\n",
       "      <td>1</td>\n",
       "      <td>0</td>\n",
       "      <td>0</td>\n",
       "      <td>560</td>\n",
       "      <td>1</td>\n",
       "    </tr>\n",
       "    <tr>\n",
       "      <th>2</th>\n",
       "      <td>24.50</td>\n",
       "      <td>0.500</td>\n",
       "      <td>1</td>\n",
       "      <td>0</td>\n",
       "      <td>0</td>\n",
       "      <td>0</td>\n",
       "      <td>1</td>\n",
       "      <td>0</td>\n",
       "      <td>0</td>\n",
       "      <td>0</td>\n",
       "      <td>0</td>\n",
       "      <td>0</td>\n",
       "      <td>0</td>\n",
       "      <td>0</td>\n",
       "      <td>0</td>\n",
       "      <td>0</td>\n",
       "      <td>0</td>\n",
       "      <td>0</td>\n",
       "      <td>0</td>\n",
       "      <td>0</td>\n",
       "      <td>0</td>\n",
       "      <td>1</td>\n",
       "      <td>0</td>\n",
       "      <td>0</td>\n",
       "      <td>0</td>\n",
       "      <td>0</td>\n",
       "      <td>0</td>\n",
       "      <td>0</td>\n",
       "      <td>0</td>\n",
       "      <td>0</td>\n",
       "      <td>1.50</td>\n",
       "      <td>1</td>\n",
       "      <td>0</td>\n",
       "      <td>0</td>\n",
       "      <td>1</td>\n",
       "      <td>0</td>\n",
       "      <td>1</td>\n",
       "      <td>0</td>\n",
       "      <td>0</td>\n",
       "      <td>824</td>\n",
       "      <td>1</td>\n",
       "    </tr>\n",
       "    <tr>\n",
       "      <th>3</th>\n",
       "      <td>27.83</td>\n",
       "      <td>1.540</td>\n",
       "      <td>1</td>\n",
       "      <td>0</td>\n",
       "      <td>0</td>\n",
       "      <td>1</td>\n",
       "      <td>0</td>\n",
       "      <td>0</td>\n",
       "      <td>0</td>\n",
       "      <td>0</td>\n",
       "      <td>0</td>\n",
       "      <td>0</td>\n",
       "      <td>0</td>\n",
       "      <td>0</td>\n",
       "      <td>0</td>\n",
       "      <td>0</td>\n",
       "      <td>0</td>\n",
       "      <td>0</td>\n",
       "      <td>0</td>\n",
       "      <td>0</td>\n",
       "      <td>1</td>\n",
       "      <td>0</td>\n",
       "      <td>0</td>\n",
       "      <td>0</td>\n",
       "      <td>0</td>\n",
       "      <td>0</td>\n",
       "      <td>0</td>\n",
       "      <td>0</td>\n",
       "      <td>0</td>\n",
       "      <td>0</td>\n",
       "      <td>3.75</td>\n",
       "      <td>1</td>\n",
       "      <td>0</td>\n",
       "      <td>1</td>\n",
       "      <td>0</td>\n",
       "      <td>5</td>\n",
       "      <td>1</td>\n",
       "      <td>0</td>\n",
       "      <td>0</td>\n",
       "      <td>3</td>\n",
       "      <td>1</td>\n",
       "    </tr>\n",
       "    <tr>\n",
       "      <th>4</th>\n",
       "      <td>20.17</td>\n",
       "      <td>5.625</td>\n",
       "      <td>1</td>\n",
       "      <td>0</td>\n",
       "      <td>0</td>\n",
       "      <td>1</td>\n",
       "      <td>0</td>\n",
       "      <td>0</td>\n",
       "      <td>0</td>\n",
       "      <td>0</td>\n",
       "      <td>0</td>\n",
       "      <td>0</td>\n",
       "      <td>0</td>\n",
       "      <td>0</td>\n",
       "      <td>0</td>\n",
       "      <td>0</td>\n",
       "      <td>0</td>\n",
       "      <td>0</td>\n",
       "      <td>0</td>\n",
       "      <td>0</td>\n",
       "      <td>1</td>\n",
       "      <td>0</td>\n",
       "      <td>0</td>\n",
       "      <td>0</td>\n",
       "      <td>0</td>\n",
       "      <td>0</td>\n",
       "      <td>0</td>\n",
       "      <td>0</td>\n",
       "      <td>0</td>\n",
       "      <td>0</td>\n",
       "      <td>1.71</td>\n",
       "      <td>1</td>\n",
       "      <td>0</td>\n",
       "      <td>0</td>\n",
       "      <td>1</td>\n",
       "      <td>0</td>\n",
       "      <td>0</td>\n",
       "      <td>1</td>\n",
       "      <td>0</td>\n",
       "      <td>0</td>\n",
       "      <td>1</td>\n",
       "    </tr>\n",
       "  </tbody>\n",
       "</table>\n",
       "</div>"
      ],
      "text/plain": [
       "     Age   Debt  Married_u  Married_y  Married_l  EducationLevel_w  \\\n",
       "0  30.83  0.000          1          0          0                 1   \n",
       "1  58.67  4.460          1          0          0                 0   \n",
       "2  24.50  0.500          1          0          0                 0   \n",
       "3  27.83  1.540          1          0          0                 1   \n",
       "4  20.17  5.625          1          0          0                 1   \n",
       "\n",
       "   EducationLevel_q  EducationLevel_m  EducationLevel_r  EducationLevel_cc  \\\n",
       "0                 0                 0                 0                  0   \n",
       "1                 1                 0                 0                  0   \n",
       "2                 1                 0                 0                  0   \n",
       "3                 0                 0                 0                  0   \n",
       "4                 0                 0                 0                  0   \n",
       "\n",
       "   EducationLevel_k  EducationLevel_c  EducationLevel_d  EducationLevel_x  \\\n",
       "0                 0                 0                 0                 0   \n",
       "1                 0                 0                 0                 0   \n",
       "2                 0                 0                 0                 0   \n",
       "3                 0                 0                 0                 0   \n",
       "4                 0                 0                 0                 0   \n",
       "\n",
       "   EducationLevel_i  EducationLevel_e  EducationLevel_aa  EducationLevel_ff  \\\n",
       "0                 0                 0                  0                  0   \n",
       "1                 0                 0                  0                  0   \n",
       "2                 0                 0                  0                  0   \n",
       "3                 0                 0                  0                  0   \n",
       "4                 0                 0                  0                  0   \n",
       "\n",
       "   EducationLevel_j  EducationLevel_u  Ethnicity_v  Ethnicity_h  Ethnicity_bb  \\\n",
       "0                 0                 0            1            0             0   \n",
       "1                 0                 0            0            1             0   \n",
       "2                 0                 0            0            1             0   \n",
       "3                 0                 0            1            0             0   \n",
       "4                 0                 0            1            0             0   \n",
       "\n",
       "   Ethnicity_ff  Ethnicity_j  Ethnicity_z  Ethnicity_u  Ethnicity_o  \\\n",
       "0             0            0            0            0            0   \n",
       "1             0            0            0            0            0   \n",
       "2             0            0            0            0            0   \n",
       "3             0            0            0            0            0   \n",
       "4             0            0            0            0            0   \n",
       "\n",
       "   Ethnicity_dd  Ethnicity_n  YearsEmployed  PriorDefault_t  PriorDefault_f  \\\n",
       "0             0            0           1.25               1               0   \n",
       "1             0            0           3.04               1               0   \n",
       "2             0            0           1.50               1               0   \n",
       "3             0            0           3.75               1               0   \n",
       "4             0            0           1.71               1               0   \n",
       "\n",
       "   Employed_t  Employed_f  CreditScore  Citizen_g  Citizen_s  Citizen_p  \\\n",
       "0           1           0            1          1          0          0   \n",
       "1           1           0            6          1          0          0   \n",
       "2           0           1            0          1          0          0   \n",
       "3           1           0            5          1          0          0   \n",
       "4           0           1            0          0          1          0   \n",
       "\n",
       "   Income  ApprovalStatus  \n",
       "0       0               1  \n",
       "1     560               1  \n",
       "2     824               1  \n",
       "3       3               1  \n",
       "4       0               1  "
      ]
     },
     "execution_count": 326,
     "metadata": {},
     "output_type": "execute_result"
    }
   ],
   "source": [
    "ohe = ce.OneHotEncoder(handle_unknown='ignore', use_cat_names=True)\n",
    "dataset = ohe.fit_transform(dataset)\n",
    "dataset.head()"
   ]
  },
  {
   "cell_type": "code",
   "execution_count": 327,
   "metadata": {},
   "outputs": [
    {
     "data": {
      "text/plain": [
       "PriorDefault_f      -0.720407\n",
       "Employed_f          -0.458301\n",
       "Married_y           -0.188964\n",
       "Ethnicity_ff        -0.183913\n",
       "EducationLevel_ff   -0.181588\n",
       "EducationLevel_i    -0.127762\n",
       "Citizen_s           -0.109758\n",
       "EducationLevel_k    -0.096879\n",
       "EducationLevel_d    -0.090776\n",
       "EducationLevel_aa   -0.054574\n",
       "Ethnicity_v         -0.050350\n",
       "EducationLevel_j    -0.035365\n",
       "Ethnicity_dd        -0.021031\n",
       "Ethnicity_j         -0.015240\n",
       "Ethnicity_bb        -0.013044\n",
       "EducationLevel_m    -0.011598\n",
       "Ethnicity_u         -0.000112\n",
       "EducationLevel_u    -0.000112\n",
       "Ethnicity_o          0.005975\n",
       "EducationLevel_c     0.007639\n",
       "Ethnicity_n          0.008462\n",
       "EducationLevel_r     0.029485\n",
       "Citizen_p            0.039245\n",
       "EducationLevel_e     0.044896\n",
       "EducationLevel_w     0.045487\n",
       "Married_l            0.060221\n",
       "Ethnicity_z          0.066487\n",
       "Citizen_g            0.089056\n",
       "EducationLevel_cc    0.132708\n",
       "EducationLevel_q     0.150082\n",
       "Age                  0.161627\n",
       "Income               0.175657\n",
       "Married_u            0.180583\n",
       "Ethnicity_h          0.186643\n",
       "EducationLevel_x     0.192945\n",
       "Debt                 0.206294\n",
       "YearsEmployed        0.322475\n",
       "CreditScore          0.406410\n",
       "Employed_t           0.458301\n",
       "PriorDefault_t       0.720407\n",
       "ApprovalStatus       1.000000\n",
       "Name: ApprovalStatus, dtype: float64"
      ]
     },
     "execution_count": 327,
     "metadata": {},
     "output_type": "execute_result"
    }
   ],
   "source": [
    "dataset.corr()['ApprovalStatus'].sort_values()"
   ]
  },
  {
   "cell_type": "code",
   "execution_count": 328,
   "metadata": {},
   "outputs": [],
   "source": [
    "#separate the features and labels\n",
    "dataset = dataset.values\n",
    "X,y = dataset[:,0:34] , dataset[:,34]"
   ]
  },
  {
   "cell_type": "code",
   "execution_count": 329,
   "metadata": {},
   "outputs": [],
   "source": [
    "#split the dataset into train, validation and test\n",
    "X_train, X_test, y_train, y_test = train_test_split(X, y, test_size=0.2, random_state=1)\n",
    "\n",
    "X_train, X_val, y_train, y_val = train_test_split(X_train, y_train, test_size=0.2, random_state=1)"
   ]
  },
  {
   "cell_type": "code",
   "execution_count": 330,
   "metadata": {},
   "outputs": [],
   "source": [
    "#rescale the training and testing sets\n",
    "#scaler = MinMaxScaler(feature_range=(0, 1))\n",
    "scaler = MinMaxScaler()\n",
    "rescaledX_train = scaler.fit_transform(X_train)\n",
    "rescaledX_test = scaler.transform(X_test)\n",
    "rescaledX_val = scaler.fit_transform(X_val)"
   ]
  },
  {
   "cell_type": "code",
   "execution_count": 331,
   "metadata": {},
   "outputs": [],
   "source": [
    "#instantiate the algorithms\n",
    "rfc = RandomForestClassifier(random_state=42, n_estimators=100)\n",
    "gnb = GaussianNB()\n",
    "logreg = LogisticRegression(solver='liblinear')"
   ]
  },
  {
   "cell_type": "code",
   "execution_count": 332,
   "metadata": {},
   "outputs": [
    {
     "name": "stdout",
     "output_type": "stream",
     "text": [
      "Random Forrest\n",
      "AUC:  1.0\n",
      "F1:  1.0\n",
      "Precission:  1.0\n",
      "Recall (Sensitivity):  1.0\n",
      "Accuracy:  1.0\n",
      "Sensitivity:  1.0\n",
      "Specificity:  1.0\n",
      "Youden's index 1.0\n",
      "Youden's index formula 1.0\n",
      "True Negatives:  175\n",
      "False Positives:  0\n",
      "False Negatives:  0\n",
      "True Positives:  266\n"
     ]
    }
   ],
   "source": [
    "print(\"Random Forrest\")\n",
    "\n",
    "roc_rfc = cross_val_score(rfc, rescaledX_train, y_train, scoring='roc_auc', cv = 5).mean()\n",
    "f1_rfc = cross_val_score(rfc, rescaledX_train, y_train, scoring='f1', cv = 5).mean()\n",
    "precision_rfc = cross_val_score(rfc, rescaledX_train, y_train, scoring='precision', cv = 5).mean()\n",
    "rec_rfc = cross_val_score(rfc, rescaledX_train, y_train, scoring='recall', cv = 5).mean()\n",
    "acc_rfc = cross_val_score(rfc, rescaledX_train, y_train, scoring='accuracy', cv = 5).mean()\n",
    "\n",
    "y_pred_rfc = cross_val_predict(rfc, rescaledX_train, y_train, cv=5)\n",
    "cnf_matrix_rfc = metrics.confusion_matrix(y_train, y_pred_rfc)\n",
    "tn_rfc, fp_rfc, fn_rfc, tp_rfc = cnf_matrix_rfc.ravel()\n",
    "\n",
    "yi_rfc = 2*roc_rfc-1\n",
    "sensitivity_rfc = tp_rfc/(tp_rfc + fn_rfc)\n",
    "specificity_rfc = tn_rfc/(fp_rfc + tn_rfc)\n",
    "yi_rfc_formula = sensitivity_rfc - (1 - specificity_rfc)\n",
    "\n",
    "print(\"AUC: \" , roc_rfc)\n",
    "print(\"F1: \" , f1_rfc)\n",
    "print(\"Precission: \" , precision_rfc)\n",
    "print(\"Recall (Sensitivity): \" , rec_rfc)\n",
    "print(\"Accuracy: \" , acc_rfc)\n",
    "print(\"Sensitivity: \" ,  sensitivity_rfc)\n",
    "print(\"Specificity: \" ,  specificity_rfc)\n",
    "print(\"Youden's index\", yi_rfc)\n",
    "print(\"Youden's index formula\", yi_rfc_formula)\n",
    "print(\"True Negatives: \",tn_rfc)\n",
    "print(\"False Positives: \",fp_rfc)\n",
    "print(\"False Negatives: \",fn_rfc)\n",
    "print(\"True Positives: \",tp_rfc)"
   ]
  },
  {
   "cell_type": "code",
   "execution_count": 333,
   "metadata": {},
   "outputs": [
    {
     "name": "stdout",
     "output_type": "stream",
     "text": [
      "Naive Bayes\n",
      "AUC 0.997088948787062\n",
      "F1:  0.9962264150943396\n",
      "Precission:  0.9962264150943396\n",
      "Recall (Sensitivity): 0.9962264150943396\n",
      "Accuracy:  0.9954545454545455\n",
      "Sensitivity:  0.9962406015037594\n",
      "Specificity:  0.9942857142857143\n",
      "Youden's index:  0.994177897574124\n",
      "Youden's index formula:  0.9905263157894737\n",
      "True Negatives:  174\n",
      "False Positives:  1\n",
      "False Negatives:  1\n",
      "True Positives:  265\n"
     ]
    }
   ],
   "source": [
    "print(\"Naive Bayes\")\n",
    "\n",
    "roc_gnb = cross_val_score(gnb, rescaledX_train, y_train, scoring='roc_auc', cv = 5).mean()\n",
    "f1_gnb = cross_val_score(gnb, rescaledX_train, y_train, scoring='f1', cv = 5).mean()\n",
    "precision_gnb = cross_val_score(gnb, rescaledX_train, y_train, scoring='precision', cv = 5).mean()\n",
    "rec_gnb = cross_val_score(gnb, rescaledX_train, y_train, scoring='recall', cv = 5).mean()\n",
    "acc_gnb= cross_val_score(gnb, rescaledX_train, y_train, scoring='accuracy', cv = 5).mean()\n",
    "\n",
    "y_pred_gnb = cross_val_predict(gnb, rescaledX_train, y_train, cv=5)\n",
    "cnf_matrix_gnb = metrics.confusion_matrix(y_train,y_pred_gnb)\n",
    "tn_gnb, fp_gnb, fn_gnb, tp_gnb = cnf_matrix_gnb.ravel()\n",
    "\n",
    "yi_gnb = 2*roc_gnb-1\n",
    "sensitivity_gnb = tp_gnb/(tp_gnb+fn_gnb)\n",
    "specificity_gnb = tn_gnb/(fp_gnb+tn_gnb)\n",
    "yi_gnb_formula = sensitivity_gnb - (1 - specificity_gnb)\n",
    "\n",
    "print(\"AUC\" , roc_gnb)\n",
    "print(\"F1: \" , f1_gnb)\n",
    "print(\"Precission: \" , precision_gnb)\n",
    "print(\"Recall (Sensitivity):\" , rec_gnb)\n",
    "print(\"Accuracy: \" , acc_gnb)\n",
    "print(\"Sensitivity: \" ,  sensitivity_gnb)\n",
    "print(\"Specificity: \" ,  specificity_gnb)\n",
    "print(\"Youden's index: \", yi_gnb)\n",
    "print(\"Youden's index formula: \", yi_gnb_formula)\n",
    "print(\"True Negatives: \",tn_gnb)\n",
    "print(\"False Positives: \",fp_gnb)\n",
    "print(\"False Negatives: \",fn_gnb)\n",
    "print(\"True Positives: \",tp_gnb)"
   ]
  },
  {
   "cell_type": "code",
   "execution_count": 334,
   "metadata": {},
   "outputs": [
    {
     "name": "stdout",
     "output_type": "stream",
     "text": [
      "Logistic regression\n",
      "AUC of Logistic Regression is:  1.0\n",
      "F1:  1.0\n",
      "Precision:  1.0\n",
      "Recall (Sensitivity):  1.0\n",
      "Accuracy:  1.0\n",
      "Sensitivity:  1.0\n",
      "Specificity:  1.0\n",
      "Youden's index 1.0\n",
      "Youden's index formula 1.0\n",
      "True Negatives:  175\n",
      "False Positives:  0\n",
      "False Negatives:  0\n",
      "True Positives:  266\n"
     ]
    }
   ],
   "source": [
    "print(\"Logistic regression\")\n",
    "\n",
    "roc_logreg = cross_val_score(logreg, rescaledX_train, y_train, scoring='roc_auc', cv = 5).mean()\n",
    "f1_logreg = cross_val_score(logreg, rescaledX_train, y_train, scoring='f1', cv = 5).mean()\n",
    "precision_logreg = cross_val_score(logreg, rescaledX_train, y_train, scoring='precision', cv = 5).mean()\n",
    "rec_logreg = cross_val_score(logreg, rescaledX_train, y_train, scoring='recall', cv = 5).mean()\n",
    "acc_logreg = cross_val_score(logreg, rescaledX_train, y_train, scoring='accuracy', cv = 5).mean()\n",
    "\n",
    "y_pred_val_logreg = cross_val_predict(logreg, rescaledX_train, y_train, cv=5)\n",
    "# Compute confusion matrix\n",
    "cnf_matrix_logreg = metrics.confusion_matrix(y_train, y_pred_val_logreg)\n",
    "tn_logreg, fp_logreg, fn_logreg, tp_logreg = cnf_matrix_logreg.ravel()\n",
    "\n",
    "yi_logreg = 2*roc_logreg-1\n",
    "sensitivity_logreg = tp_logreg/(tp_logreg+fn_logreg)\n",
    "specificity_logreg = tn_logreg/(fp_logreg+tn_logreg)\n",
    "yi_logreg_formula = sensitivity_logreg - (1 - specificity_logreg)\n",
    "\n",
    "print(\"AUC of Logistic Regression is: \" , roc_logreg)\n",
    "print(\"F1: \" , f1_logreg)\n",
    "print(\"Precision: \" , precision_logreg)\n",
    "print(\"Recall (Sensitivity): \" , rec_logreg)\n",
    "print(\"Accuracy: \" , acc_logreg)\n",
    "print(\"Sensitivity: \" ,  sensitivity_logreg)\n",
    "print(\"Specificity: \" ,  specificity_logreg)\n",
    "print(\"Youden's index\", yi_logreg)\n",
    "print(\"Youden's index formula\", yi_logreg_formula)\n",
    "print(\"True Negatives: \",tn_logreg)\n",
    "print(\"False Positives: \",fp_logreg)\n",
    "print(\"False Negatives: \",fn_logreg)\n",
    "print(\"True Positives: \",tp_logreg)\n"
   ]
  },
  {
   "cell_type": "code",
   "execution_count": 335,
   "metadata": {},
   "outputs": [],
   "source": [
    "import itertools    \n",
    "\n",
    "# function to plot confusion matrix\n",
    "def plot_confusion_matrix(cm, classes,\n",
    "                          normalize=False,\n",
    "                          title='Confusion matrix',\n",
    "                          cmap=plt.cm.Blues):\n",
    "    \"\"\"\n",
    "    This function prints and plots the confusion matrix.\n",
    "    Normalization can be applied by setting `normalize=True`.\n",
    "    \"\"\"\n",
    "    if normalize:\n",
    "        cm = cm.astype('float') / cm.sum(axis=1)[:, np.newaxis]\n",
    "        print(\"Normalized confusion matrix\")\n",
    "    else:\n",
    "        print('Confusion matrix, without normalization')\n",
    "\n",
    "    print(cm)\n",
    "\n",
    "    plt.imshow(cm, interpolation='nearest', cmap=cmap)\n",
    "    plt.title(title)\n",
    "    plt.colorbar()\n",
    "    tick_marks = np.arange(len(classes))\n",
    "    plt.xticks(tick_marks, classes, rotation=45)\n",
    "    plt.yticks(tick_marks, classes)\n",
    "\n",
    "    fmt = '.2f' if normalize else 'd'\n",
    "    thresh = cm.max() / 2.\n",
    "    for i, j in itertools.product(range(cm.shape[0]), range(cm.shape[1])):\n",
    "        plt.text(j, i, format(cm[i, j], fmt),\n",
    "                 horizontalalignment=\"center\",\n",
    "                 color=\"white\" if cm[i, j] > thresh else \"black\")\n",
    "\n",
    "    plt.ylabel('True label')\n",
    "    plt.xlabel('Predicted label')\n",
    "    plt.tight_layout()\n"
   ]
  },
  {
   "cell_type": "code",
   "execution_count": 336,
   "metadata": {},
   "outputs": [
    {
     "name": "stdout",
     "output_type": "stream",
     "text": [
      "Random forest\n",
      "Confusion matrix, without normalization\n",
      "[[175   0]\n",
      " [  0 266]]\n"
     ]
    },
    {
     "data": {
      "image/png": "[encoded data removed]",
      "text/plain": [
       "<Figure size 432x288 with 2 Axes>"
      ]
     },
     "metadata": {
      "needs_background": "light"
     },
     "output_type": "display_data"
    }
   ],
   "source": [
    "print(\"Random forest\")\n",
    "# Plot non-normalized confusion matrix\n",
    "plt.figure()\n",
    "plot_confusion_matrix(cnf_matrix_rfc, classes=['Approved','Denied'],\n",
    "                      title='Confusion matrix, without normalization')"
   ]
  },
  {
   "cell_type": "code",
   "execution_count": 337,
   "metadata": {},
   "outputs": [
    {
     "name": "stdout",
     "output_type": "stream",
     "text": [
      "Naive Bayes\n",
      "Confusion matrix, without normalization\n",
      "[[174   1]\n",
      " [  1 265]]\n"
     ]
    },
    {
     "data": {
      "image/png": "[encoded data removed]",
      "text/plain": [
       "<Figure size 432x288 with 2 Axes>"
      ]
     },
     "metadata": {
      "needs_background": "light"
     },
     "output_type": "display_data"
    }
   ],
   "source": [
    "print(\"Naive Bayes\")\n",
    "# Plot non-normalized confusion matrix\n",
    "plt.figure()\n",
    "plot_confusion_matrix(cnf_matrix_gnb, classes=['Approved','Denied'],\n",
    "                      title='Confusion matrix, without normalization')"
   ]
  },
  {
   "cell_type": "code",
   "execution_count": 338,
   "metadata": {},
   "outputs": [
    {
     "name": "stdout",
     "output_type": "stream",
     "text": [
      "Logistic regression\n",
      "Confusion matrix, without normalization\n",
      "[[175   0]\n",
      " [  0 266]]\n"
     ]
    },
    {
     "data": {
      "image/png": "[encoded data removed]",
      "text/plain": [
       "<Figure size 432x288 with 2 Axes>"
      ]
     },
     "metadata": {
      "needs_background": "light"
     },
     "output_type": "display_data"
    }
   ],
   "source": [
    "print(\"Logistic regression\")\n",
    "# Plot non-normalized confusion matrix\n",
    "plt.figure()\n",
    "plot_confusion_matrix(cnf_matrix_logreg, classes=['Approved','Denied'],\n",
    "                      title='Confusion matrix, without normalization')"
   ]
  },
  {
   "cell_type": "code",
   "execution_count": 339,
   "metadata": {},
   "outputs": [],
   "source": [
    "param_grid = {\n",
    "    'max_depth': np.linspace(1, 32, 32, endpoint=True),\n",
    "    'max_features': list(range(1,rescaledX_train.shape[1])),\n",
    "    'min_samples_leaf': np.linspace(0.1, 0.5, 5, endpoint=True),\n",
    "    'min_samples_split': np.linspace(0.1, 1.0, 10, endpoint=True),\n",
    "    'n_estimators': [1, 2, 4, 8, 16, 32, 64, 100, 200]\n",
    "}\n",
    "#grid_search = GridSearchCV(estimator = rfc, param_grid = param_grid, \n",
    "                          #cv = 5, n_jobs = -1, verbose = 2)\n",
    "#grid_search.fit(rescaledX_val, y_val)\n",
    "\n",
    "#rgs = RandomizedSearchCV(estimator=rfc, param_distributions  = param_grid, n_iter = 5000, cv = 10, n_jobs = -1, verbose = 2)\n",
    "#rgs.fit(rescaledX_val, y_val)\n",
    "\n",
    "#rgs.best_params_"
   ]
  },
  {
   "cell_type": "code",
   "execution_count": 340,
   "metadata": {},
   "outputs": [],
   "source": [
    "#instantiate rfc with the best parameters\n",
    "#rfc_best_model = RandomForestClassifier(max_depth=26.0,max_features=3,min_samples_leaf=0.1,min_samples_split= 0.3,n_estimators=8,random_state=42)\n",
    "rfc_best_model = RandomForestClassifier(max_depth=20.0,max_features=3,min_samples_leaf=0.1,min_samples_split= 0.3,n_estimators=10,random_state=42)\n",
    "#fit the train data\n",
    "rfc_best_model.fit(rescaledX_train, y_train)\n",
    "#predict on validation set\n",
    "y_pred_val = rfc_best_model.predict(rescaledX_val)"
   ]
  },
  {
   "cell_type": "code",
   "execution_count": 341,
   "metadata": {},
   "outputs": [
    {
     "name": "stdout",
     "output_type": "stream",
     "text": [
      "AUC:  0.6296296296296297\n",
      "F1:  0.7402597402597402\n",
      "Precission:  0.5876288659793815\n",
      "Recall:  1.0\n",
      "Accuracy:  0.6396396396396397\n",
      "Youden's index 0.2592592592592593\n",
      "Youden's formula 0.2592592592592593\n",
      "True Negatives:  14\n",
      "False Positives:  40\n",
      "False Negatives:  0\n",
      "True Positives:  57\n"
     ]
    }
   ],
   "source": [
    "#print the metrics for validation set\n",
    "print(\"AUC: \" ,  metrics.roc_auc_score(y_val,y_pred_val))\n",
    "print(\"F1: \" , metrics.f1_score(y_val,y_pred_val))\n",
    "print(\"Precission: \" , metrics.precision_score(y_val,y_pred_val))\n",
    "print(\"Recall: \" ,  metrics.recall_score(y_val,y_pred_val))\n",
    "print(\"Accuracy: \" ,  metrics.accuracy_score(y_val,y_pred_val))\n",
    "print(\"Youden's index\", (2*metrics.roc_auc_score(y_val,y_pred_val)-1))\n",
    "cnf_matrix = metrics.confusion_matrix(y_val,y_pred_val)\n",
    "tn, fp, fn, tp = cnf_matrix.ravel()\n",
    "\n",
    "yi_rfc = ((tp/(tp+fn)-(1-(tn/(fp+tn)))))\n",
    "\n",
    "print(\"Youden's formula\", yi_rfc)\n",
    "print(\"True Negatives: \",tn)\n",
    "print(\"False Positives: \",fp)\n",
    "print(\"False Negatives: \",fn)\n",
    "print(\"True Positives: \",tp)\n",
    "      "
   ]
  },
  {
   "cell_type": "code",
   "execution_count": 342,
   "metadata": {},
   "outputs": [
    {
     "name": "stdout",
     "output_type": "stream",
     "text": [
      "Confusion matrix, without normalization\n",
      "[[14 40]\n",
      " [ 0 57]]\n"
     ]
    },
    {
     "data": {
      "image/png": "[encoded data removed]",
      "text/plain": [
       "<Figure size 432x288 with 2 Axes>"
      ]
     },
     "metadata": {
      "needs_background": "light"
     },
     "output_type": "display_data"
    }
   ],
   "source": [
    "# Plot non-normalized confusion matrix\n",
    "plt.figure()\n",
    "plot_confusion_matrix(cnf_matrix, classes=['Approved','Denied'],\n",
    "                      title='Confusion matrix, without normalization')"
   ]
  },
  {
   "cell_type": "code",
   "execution_count": 343,
   "metadata": {},
   "outputs": [
    {
     "data": {
      "image/png": "[encoded data removed]",
      "text/plain": [
       "<Figure size 432x288 with 1 Axes>"
      ]
     },
     "metadata": {
      "needs_background": "light"
     },
     "output_type": "display_data"
    }
   ],
   "source": [
    "from sklearn.metrics import roc_curve, auc\n",
    "fpr, tpr, threshold = roc_curve(y_pred_val, y_val)\n",
    "roc_auc = auc(fpr, tpr)\n",
    "\n",
    "plt.figure()\n",
    "plt.plot(fpr, tpr, color='darkorange', lw=1, label='ROC curve (area = %0.2f)' % roc_auc)\n",
    "plt.plot([0, 1], [0, 1], color='navy', lw=1, linestyle='--')\n",
    "plt.xlim([0.0, 1.0])\n",
    "plt.ylim([0.0, 1.05])\n",
    "plt.xlabel('False Positive Rate')\n",
    "plt.ylabel('True Positive Rate')\n",
    "plt.title('Receiver operating characteristic')\n",
    "plt.legend(loc=\"lower right\")\n",
    "plt.show()\n"
   ]
  },
  {
   "cell_type": "code",
   "execution_count": 344,
   "metadata": {},
   "outputs": [],
   "source": [
    "#instantiate rfc with the best parameters\n",
    "rfc_best_model = RandomForestClassifier(max_depth=20.0,max_features=3,min_samples_leaf=0.1,min_samples_split= 0.3,n_estimators=10,random_state=42)\n",
    "\n",
    "#fit the train data\n",
    "rfc_best_model.fit(rescaledX_train, y_train)\n",
    "#predict on test set\n",
    "y_pred_val = rfc_best_model.predict(rescaledX_test)"
   ]
  },
  {
   "cell_type": "code",
   "execution_count": 345,
   "metadata": {},
   "outputs": [
    {
     "name": "stdout",
     "output_type": "stream",
     "text": [
      "AUC:  0.5833333333333333\n",
      "F1:  0.7236180904522613\n",
      "Precission:  0.5669291338582677\n",
      "Recall:  1.0\n",
      "Accuracy:  0.6014492753623188\n",
      "Youden's index 0.16666666666666652\n"
     ]
    },
    {
     "ename": "NameError",
     "evalue": "name 'confusion_matrix' is not defined",
     "output_type": "error",
     "traceback": [
      "\u001b[0;31m---------------------------------------------------------------------------\u001b[0m",
      "\u001b[0;31mNameError\u001b[0m                                 Traceback (most recent call last)",
      "\u001b[0;32m<ipython-input-345-3af767aa24fb>\u001b[0m in \u001b[0;36m<module>\u001b[0;34m()\u001b[0m\n\u001b[1;32m      6\u001b[0m \u001b[0mprint\u001b[0m\u001b[0;34m(\u001b[0m\u001b[0;34m\"Accuracy: \"\u001b[0m \u001b[0;34m,\u001b[0m  \u001b[0mmetrics\u001b[0m\u001b[0;34m.\u001b[0m\u001b[0maccuracy_score\u001b[0m\u001b[0;34m(\u001b[0m\u001b[0my_test\u001b[0m\u001b[0;34m,\u001b[0m\u001b[0my_pred_val\u001b[0m\u001b[0;34m)\u001b[0m\u001b[0;34m)\u001b[0m\u001b[0;34m\u001b[0m\u001b[0;34m\u001b[0m\u001b[0m\n\u001b[1;32m      7\u001b[0m \u001b[0mprint\u001b[0m\u001b[0;34m(\u001b[0m\u001b[0;34m\"Youden's index\"\u001b[0m\u001b[0;34m,\u001b[0m \u001b[0;34m(\u001b[0m\u001b[0;36m2\u001b[0m\u001b[0;34m*\u001b[0m\u001b[0mmetrics\u001b[0m\u001b[0;34m.\u001b[0m\u001b[0mroc_auc_score\u001b[0m\u001b[0;34m(\u001b[0m\u001b[0my_test\u001b[0m\u001b[0;34m,\u001b[0m\u001b[0my_pred_val\u001b[0m\u001b[0;34m)\u001b[0m\u001b[0;34m-\u001b[0m\u001b[0;36m1\u001b[0m\u001b[0;34m)\u001b[0m\u001b[0;34m)\u001b[0m\u001b[0;34m\u001b[0m\u001b[0;34m\u001b[0m\u001b[0m\n\u001b[0;32m----> 8\u001b[0;31m \u001b[0mcnf_matrix\u001b[0m \u001b[0;34m=\u001b[0m \u001b[0mconfusion_matrix\u001b[0m\u001b[0;34m(\u001b[0m\u001b[0my_test\u001b[0m\u001b[0;34m,\u001b[0m\u001b[0my_pred_val\u001b[0m\u001b[0;34m)\u001b[0m\u001b[0;34m\u001b[0m\u001b[0;34m\u001b[0m\u001b[0m\n\u001b[0m\u001b[1;32m      9\u001b[0m \u001b[0mtn\u001b[0m\u001b[0;34m,\u001b[0m \u001b[0mfp\u001b[0m\u001b[0;34m,\u001b[0m \u001b[0mfn\u001b[0m\u001b[0;34m,\u001b[0m \u001b[0mtp\u001b[0m \u001b[0;34m=\u001b[0m \u001b[0mcnf_matrix\u001b[0m\u001b[0;34m.\u001b[0m\u001b[0mravel\u001b[0m\u001b[0;34m(\u001b[0m\u001b[0;34m)\u001b[0m\u001b[0;34m\u001b[0m\u001b[0;34m\u001b[0m\u001b[0m\n\u001b[1;32m     10\u001b[0m \u001b[0;34m\u001b[0m\u001b[0m\n",
      "\u001b[0;31mNameError\u001b[0m: name 'confusion_matrix' is not defined"
     ]
    }
   ],
   "source": [
    "#print the metrics for test set\n",
    "print(\"AUC: \" ,  metrics.roc_auc_score(y_test,y_pred_val))\n",
    "print(\"F1: \" , metrics.f1_score(y_test,y_pred_val))\n",
    "print(\"Precission: \" , metrics.precision_score(y_test,y_pred_val))\n",
    "print(\"Recall: \" ,  metrics.recall_score(y_test,y_pred_val))\n",
    "print(\"Accuracy: \" ,  metrics.accuracy_score(y_test,y_pred_val))\n",
    "print(\"Youden's index\", (2*metrics.roc_auc_score(y_test,y_pred_val)-1))\n",
    "cnf_matrix = confusion_matrix(y_test,y_pred_val)\n",
    "tn, fp, fn, tp = cnf_matrix.ravel()\n",
    "\n",
    "yi_rfc = ((tp/(tp+fn)-(1-(tn/(fp+tn)))))\n",
    "\n",
    "print(\"Youden's formula\", yi_rfc)\n",
    "print(\"True Negatives: \",tn)\n",
    "print(\"False Positives: \",fp)\n",
    "print(\"False Negatives: \",fn)\n",
    "print(\"True Positives: \",tp)\n",
    "      "
   ]
  },
  {
   "cell_type": "code",
   "execution_count": null,
   "metadata": {},
   "outputs": [],
   "source": [
    "# Plot non-normalized confusion matrix\n",
    "plt.figure()\n",
    "plot_confusion_matrix(cnf_matrix, classes=['Approved','Denied'],\n",
    "                      title='Confusion matrix, without normalization')"
   ]
  }
 ],
 "metadata": {
  "kernelspec": {
   "display_name": "Python 3",
   "language": "python",
   "name": "python3"
  },
  "language_info": {
   "codemirror_mode": {
    "name": "ipython",
    "version": 3
   },
   "file_extension": ".py",
   "mimetype": "text/x-python",
   "name": "python",
   "nbconvert_exporter": "python",
   "pygments_lexer": "ipython3",
   "version": "3.7.3"
  }
 },
 "nbformat": 4,
 "nbformat_minor": 2
}

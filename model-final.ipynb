{
 "cells": [
  {
   "cell_type": "code",
   "execution_count": 17,
   "metadata": {},
   "outputs": [],
   "source": [
    "#imports\n",
    "import pandas as pd\n",
    "import numpy as np \n",
    "from sklearn import preprocessing\n",
    "from sklearn.model_selection import train_test_split\n",
    "from sklearn.preprocessing import MinMaxScaler\n",
    "from sklearn.linear_model import LogisticRegression\n",
    "from sklearn.metrics import confusion_matrix\n",
    "from sklearn import metrics\n",
    "import matplotlib.pyplot as plt\n",
    "from sklearn.model_selection import GridSearchCV\n",
    "# import seaborn as sns\n",
    "from sklearn import svm\n",
    "from sklearn.ensemble import RandomForestClassifier\n",
    "from sklearn.naive_bayes import GaussianNB\n",
    "from sklearn.metrics import accuracy_score\n",
    "from sklearn.model_selection import cross_val_score\n",
    "#from statsmodels import robust"
   ]
  },
  {
   "cell_type": "code",
   "execution_count": 18,
   "metadata": {},
   "outputs": [],
   "source": [
    "#import csv and assign the attributes\n",
    "col_names = [\"Gender\",\"Age\",\"Debt\",\"Married\",\"BankCustomer\",\"EducationLevel\",\"Ethnicity\",\"YearsEmployed\",\"PriorDefault\",\"Employed\",\"CreditScore\", \"DriversLicense\", \"Citizen\", \"ZipCode\", \"Income\" , \"ApprovalStatus\"]\n",
    "dataset = pd.read_csv(\"datasets/crx.data\", header=None, names=col_names);\n",
    "dataframe = dataset.copy()\n",
    "#dataset.head(10)"
   ]
  },
  {
   "cell_type": "code",
   "execution_count": 19,
   "metadata": {},
   "outputs": [],
   "source": [
    "#replace missing numeric values with mean\n",
    "dataset = dataset.replace(\"?\", np.nan)\n",
    "dataset.fillna(dataset.mean(), inplace=True)\n",
    "\n",
    "#replace missing object values with the most freequent value\n",
    "for col in dataset:\n",
    "    if dataset[col].dtypes == 'object':\n",
    "        dataset = dataset.fillna(dataset[col].value_counts().index[0])"
   ]
  },
  {
   "cell_type": "code",
   "execution_count": 20,
   "metadata": {},
   "outputs": [],
   "source": [
    "#encode values for the algorithm\n",
    "#ohe = preprocessing.OneHotEncoder()\n",
    "\n",
    "le = preprocessing.LabelEncoder()\n",
    "\n",
    "for col in dataset:\n",
    "    if dataset[col].dtypes == 'object':\n",
    "        dataset[col]=le.fit_transform(dataset[col])"
   ]
  },
  {
   "cell_type": "code",
   "execution_count": 21,
   "metadata": {},
   "outputs": [
    {
     "data": {
      "text/plain": [
       "array([[<matplotlib.axes._subplots.AxesSubplot object at 0x11f7df630>,\n",
       "        <matplotlib.axes._subplots.AxesSubplot object at 0x121cc0a20>],\n",
       "       [<matplotlib.axes._subplots.AxesSubplot object at 0x121debc88>,\n",
       "        <matplotlib.axes._subplots.AxesSubplot object at 0x121e0fda0>]],\n",
       "      dtype=object)"
      ]
     },
     "execution_count": 21,
     "metadata": {},
     "output_type": "execute_result"
    },
    {
     "data": {
      "image/png": "[encoded data removed]",
      "text/plain": [
       "<Figure size 432x288 with 4 Axes>"
      ]
     },
     "metadata": {
      "needs_background": "light"
     },
     "output_type": "display_data"
    }
   ],
   "source": [
    "#ploting all non-nuisance features. we can see the data is not normally distributed hence we will use minmaxscaler\n",
    "dataframe.hist()"
   ]
  },
  {
   "cell_type": "code",
   "execution_count": 22,
   "metadata": {},
   "outputs": [
    {
     "data": {
      "text/plain": [
       "Gender               0.423440\n",
       "Age                 82.546335\n",
       "Debt                 3.941786\n",
       "Married              0.370439\n",
       "BankCustomer         0.727536\n",
       "EducationLevel       3.875156\n",
       "Ethnicity            2.395346\n",
       "YearsEmployed        2.223883\n",
       "PriorDefault         0.498925\n",
       "Employed             0.489498\n",
       "CreditScore          3.088116\n",
       "DriversLicense       0.496467\n",
       "Citizen              0.320311\n",
       "ZipCode             40.415312\n",
       "Income            1533.165402\n",
       "ApprovalStatus       0.493934\n",
       "dtype: float64"
      ]
     },
     "execution_count": 22,
     "metadata": {},
     "output_type": "execute_result"
    }
   ],
   "source": [
    "#use MAD to check the spread of the observation from the mean. MAD > std because we have outliers like age, income\n",
    "dataset.mad()"
   ]
  },
  {
   "cell_type": "code",
   "execution_count": 23,
   "metadata": {},
   "outputs": [
    {
     "data": {
      "text/plain": [
       "ApprovalStatus    1.000000\n",
       "Married           0.191431\n",
       "BankCustomer      0.187520\n",
       "Citizen           0.100867\n",
       "ZipCode           0.094851\n",
       "Gender            0.028934\n",
       "Ethnicity        -0.000877\n",
       "DriversLicense   -0.031625\n",
       "EducationLevel   -0.130026\n",
       "Age              -0.133304\n",
       "Income           -0.175657\n",
       "Debt             -0.206294\n",
       "YearsEmployed    -0.322475\n",
       "CreditScore      -0.406410\n",
       "Employed         -0.458301\n",
       "PriorDefault     -0.720407\n",
       "Name: ApprovalStatus, dtype: float64"
      ]
     },
     "execution_count": 23,
     "metadata": {},
     "output_type": "execute_result"
    }
   ],
   "source": [
    "#pearsons correlation in relation to the target to see if we can get rid of features\n",
    "dataset.corr()[\"ApprovalStatus\"].sort_values(ascending=False)"
   ]
  },
  {
   "cell_type": "code",
   "execution_count": 24,
   "metadata": {},
   "outputs": [],
   "source": [
    "#drop columns with the lowest correlation, or columns that do not make sense\n",
    "dataset = dataset.drop(['DriversLicense', 'ZipCode', 'Ethnicity', 'Gender'], axis=1)"
   ]
  },
  {
   "cell_type": "code",
   "execution_count": 25,
   "metadata": {},
   "outputs": [],
   "source": [
    "#separate the features and labels\n",
    "dataset = dataset.values\n",
    "X,y = dataset[:,0:11] , dataset[:,11]\n",
    "\n",
    "#split the dataset into train and test\n",
    "X_train, X_test, y_train, y_test = train_test_split(X, y, test_size=0.2, random_state=1)\n",
    "\n",
    "X_train, X_val, y_train, y_val = train_test_split(X_train, y_train, test_size=0.2, random_state=1)"
   ]
  },
  {
   "cell_type": "code",
   "execution_count": 26,
   "metadata": {},
   "outputs": [],
   "source": [
    "#rescale the training and testing sets\n",
    "scaler = MinMaxScaler(feature_range=(0, 1))\n",
    "rescaledX_train = scaler.fit_transform(X_train)\n",
    "rescaledX_test = scaler.fit_transform(X_test)\n",
    "rescaledX_val = scaler.fit_transform(X_val)"
   ]
  },
  {
   "cell_type": "code",
   "execution_count": 27,
   "metadata": {},
   "outputs": [],
   "source": [
    "#instantiate the algorithms\n",
    "rfc = RandomForestClassifier(random_state=42, n_estimators=100)\n",
    "gnb = GaussianNB()\n",
    "logreg = LogisticRegression(solver='liblinear')"
   ]
  },
  {
   "cell_type": "code",
   "execution_count": 28,
   "metadata": {},
   "outputs": [
    {
     "name": "stdout",
     "output_type": "stream",
     "text": [
      "Random Forrest\n",
      "AUC:  0.9181401277438429\n",
      "F1:  0.8644031891609899\n",
      "Precission:  0.8805805121755232\n",
      "Recall:  0.8534901960784314\n",
      "Naive Bayes\n",
      "AUC of Naive Bayes is:  0.8767135804535184\n",
      "F1:  0.8275527821733011\n",
      "Precission:  0.7521033115399609\n",
      "Recall:  0.9207843137254901\n",
      "Logistic regression\n",
      "AUC of Logistic Regression is:  0.9191576158201545\n",
      "F1:  0.8744763848722872\n",
      "Precission:  0.9102171435061802\n",
      "Recall:  0.8531764705882352\n"
     ]
    }
   ],
   "source": [
    "#use cross validation with 5 folds on the training data, since we have low amount of data\n",
    "#produce the AUC score for each of the algorithms\n",
    "print(\"Random Forrest\")\n",
    "roc_rfc = cross_val_score(rfc, X_train, y_train, scoring='roc_auc', cv = 5).mean()\n",
    "f1_rfc = cross_val_score(rfc, X_train, y_train, scoring='f1', cv = 5).mean()\n",
    "precision_rfc = cross_val_score(rfc, X_train, y_train, scoring='precision', cv = 5).mean()\n",
    "rec_rfc = cross_val_score(rfc, X_train, y_train, scoring='recall', cv = 5).mean()\n",
    "print(\"AUC: \" , roc_rfc)\n",
    "print(\"F1: \" , f1_rfc)\n",
    "print(\"Precission: \" , precision_rfc)\n",
    "print(\"Recall: \" , rec_rfc)\n",
    "\n",
    "print(\"Naive Bayes\")\n",
    "roc_gnb = cross_val_score(gnb, X_train, y_train, scoring='roc_auc', cv = 5).mean()\n",
    "f1_gnb = cross_val_score(gnb, X_train, y_train, scoring='f1', cv = 5).mean()\n",
    "precision_gnb = cross_val_score(gnb, X_train, y_train, scoring='precision', cv = 5).mean()\n",
    "rec_gnb = cross_val_score(gnb, X_train, y_train, scoring='recall', cv = 5).mean()\n",
    "print(\"AUC of Naive Bayes is: \" , roc_gnb)\n",
    "print(\"F1: \" , f1_gnb)\n",
    "print(\"Precission: \" , precision_gnb)\n",
    "print(\"Recall: \" , rec_gnb)\n",
    "\n",
    "print(\"Logistic regression\")\n",
    "roc_logreg = cross_val_score(logreg, X_train, y_train, scoring='roc_auc', cv = 5).mean()\n",
    "f1_logreg = cross_val_score(logreg, X_train, y_train, scoring='f1', cv = 5).mean()\n",
    "precision_logreg = cross_val_score(logreg, X_train, y_train, scoring='precision', cv = 5).mean()\n",
    "rec_logreg = cross_val_score(logreg, X_train, y_train, scoring='recall', cv = 5).mean()\n",
    "print(\"AUC of Logistic Regression is: \" , roc_logreg)\n",
    "print(\"F1: \" , f1_logreg)\n",
    "print(\"Precission: \" , precision_logreg)\n",
    "print(\"Recall: \" , rec_logreg)\n"
   ]
  },
  {
   "cell_type": "code",
   "execution_count": 29,
   "metadata": {},
   "outputs": [
    {
     "name": "stdout",
     "output_type": "stream",
     "text": [
      "Best: {'max_features': 5, 'min_samples_leaf': 50, 'n_estimators': 100}\n"
     ]
    },
    {
     "name": "stderr",
     "output_type": "stream",
     "text": [
      "/usr/local/lib/python3.7/site-packages/sklearn/model_selection/_search.py:841: DeprecationWarning: The default of the `iid` parameter will change from True to False in version 0.22 and will be removed in 0.24. This will change numeric results when test-set sizes are unequal.\n",
      "  DeprecationWarning)\n"
     ]
    }
   ],
   "source": [
    "#use gridsearch to find best parameters for RandomForest\n",
    "parameters = { 'max_features':np.arange(5,11),'n_estimators':[10,50,100,200,500],'min_samples_leaf': [10,50,100,200,500]}\n",
    "\n",
    "random_grid = GridSearchCV(rfc, parameters, cv = 5)\n",
    "random_grid_result = random_grid.fit(rescaledX_train, y_train)\n",
    "\n",
    "print(\"Best:\", random_grid_result.best_params_)"
   ]
  },
  {
   "cell_type": "code",
   "execution_count": 30,
   "metadata": {},
   "outputs": [],
   "source": [
    "#instantiate RFC with the best parameters\n",
    "rfc_best_model = RandomForestClassifier(max_features=5,min_samples_leaf=10,n_estimators=10,random_state=42)\n",
    "#fit the test data\n",
    "rfc_best_model.fit(X_train, y_train)\n",
    "#predict\n",
    "y_pred = rfc_best_model.predict(X_test)\n"
   ]
  },
  {
   "cell_type": "code",
   "execution_count": 31,
   "metadata": {},
   "outputs": [
    {
     "name": "stdout",
     "output_type": "stream",
     "text": [
      "AUC:  0.8857142857142857\n",
      "F1:  0.8904109589041095\n",
      "Precission:  0.9154929577464789\n",
      "Recall:  0.8666666666666667\n"
     ]
    }
   ],
   "source": [
    "#print the metrics\n",
    "print(\"AUC: \" ,  metrics.roc_auc_score(y_test,y_pred))\n",
    "print(\"F1: \" , metrics.f1_score(y_test,y_pred))\n",
    "print(\"Precission: \" , metrics.precision_score(y_test,y_pred))\n",
    "print(\"Recall: \" ,  metrics.recall_score(y_test,y_pred))"
   ]
  },
  {
   "cell_type": "code",
   "execution_count": 47,
   "metadata": {},
   "outputs": [
    {
     "name": "stdout",
     "output_type": "stream",
     "text": [
      "Best: {'C': 21.544346900318832, 'penalty': 'l1'}\n"
     ]
    },
    {
     "name": "stderr",
     "output_type": "stream",
     "text": [
      "/usr/local/lib/python3.7/site-packages/sklearn/model_selection/_search.py:841: DeprecationWarning: The default of the `iid` parameter will change from True to False in version 0.22 and will be removed in 0.24. This will change numeric results when test-set sizes are unequal.\n",
      "  DeprecationWarning)\n"
     ]
    }
   ],
   "source": [
    "# Create logistic regression\n",
    "logistic = LogisticRegression(solver='liblinear')\n",
    "\n",
    "# Create regularization penalty space\n",
    "penalty = ['l1', 'l2']\n",
    "\n",
    "# Create regularization hyperparameter space\n",
    "C = np.logspace(0, 4, 10)\n",
    "\n",
    "# Create hyperparameter options\n",
    "hyperparameters = dict(C=C, penalty=penalty)\n",
    "\n",
    "# Create grid search using 5-fold cross validation\n",
    "clf = GridSearchCV(logistic, hyperparameters, cv=5, verbose=0)\n",
    "\n",
    "# Fit grid search\n",
    "log_grid_result = clf.fit(rescaledX_train, y_train)\n",
    "\n",
    "# View best hyperparameters\n",
    "print(\"Best:\", log_grid_result.best_params_)"
   ]
  },
  {
   "cell_type": "code",
   "execution_count": 48,
   "metadata": {},
   "outputs": [
    {
     "name": "stderr",
     "output_type": "stream",
     "text": [
      "/usr/local/lib/python3.7/site-packages/sklearn/linear_model/logistic.py:433: FutureWarning: Default solver will be changed to 'lbfgs' in 0.22. Specify a solver to silence this warning.\n",
      "  FutureWarning)\n"
     ]
    }
   ],
   "source": [
    "logistic = LogisticRegression(C=21.544346900318832, penalty='l1')\n",
    "logistic.fit(rescaledX_train, y_train)\n",
    "y_pred_val= logistic.predict(rescaledX_val)\n"
   ]
  },
  {
   "cell_type": "code",
   "execution_count": 49,
   "metadata": {},
   "outputs": [
    {
     "data": {
      "image/png": "[encoded data removed]",
      "text/plain": [
       "<Figure size 432x288 with 1 Axes>"
      ]
     },
     "metadata": {
      "needs_background": "light"
     },
     "output_type": "display_data"
    }
   ],
   "source": [
    "from sklearn.metrics import roc_curve, auc\n",
    "fpr, tpr, threshold = roc_curve(y_pred_val, y_val)\n",
    "roc_auc = auc(fpr, tpr)\n",
    "\n",
    "plt.figure()\n",
    "plt.plot(fpr, tpr, color='darkorange', lw=1, label='ROC curve (area = %0.2f)' % roc_auc)\n",
    "plt.plot([0, 1], [0, 1], color='navy', lw=1, linestyle='--')\n",
    "plt.xlim([0.0, 1.0])\n",
    "plt.ylim([0.0, 1.05])\n",
    "plt.xlabel('False Positive Rate')\n",
    "plt.ylabel('True Positive Rate')\n",
    "plt.title('Receiver operating characteristic')\n",
    "plt.legend(loc=\"lower right\")\n",
    "plt.show()"
   ]
  },
  {
   "cell_type": "code",
   "execution_count": 35,
   "metadata": {},
   "outputs": [
    {
     "name": "stdout",
     "output_type": "stream",
     "text": [
      "[2.0]\n"
     ]
    },
    {
     "name": "stderr",
     "output_type": "stream",
     "text": [
      "/usr/local/lib/python3.7/site-packages/ipykernel_launcher.py:3: DeprecationWarning: \n",
      ".ix is deprecated. Please use\n",
      ".loc for label based indexing or\n",
      ".iloc for positional indexing\n",
      "\n",
      "See the documentation here:\n",
      "http://pandas.pydata.org/pandas-docs/stable/indexing.html#ix-indexer-is-deprecated\n",
      "  This is separate from the ipykernel package so we can avoid doing imports until\n"
     ]
    }
   ],
   "source": [
    "i = np.arange(len(tpr)) \n",
    "roc = pd.DataFrame({'tf' : pd.Series(tpr+(1-fpr), index=i), 'threshold' : pd.Series(thresholds, index=i)})\n",
    "roc_t = roc.ix[(roc.tf-0).abs().argsort()[:1]]\n",
    "print(list(roc_t['threshold']))"
   ]
  },
  {
   "cell_type": "code",
   "execution_count": 36,
   "metadata": {},
   "outputs": [
    {
     "name": "stdout",
     "output_type": "stream",
     "text": [
      "0.45652173913043476\n"
     ]
    }
   ],
   "source": [
    "threshold = 2.0\n",
    "\n",
    "predicted_proba = logistic.predict_proba(rescaledX_test)\n",
    "predicted = (predicted_proba [:,1] >= threshold).astype('bool')\n",
    "\n",
    "accuracy = accuracy_score(y_test, predicted)\n",
    "print(accuracy)"
   ]
  },
  {
   "cell_type": "code",
   "execution_count": 37,
   "metadata": {},
   "outputs": [
    {
     "name": "stdout",
     "output_type": "stream",
     "text": [
      "[1.0]\n"
     ]
    }
   ],
   "source": [
    "def Find_Optimal_Cutoff(target, predicted):\n",
    "    \"\"\" Find the optimal probability cutoff point for a classification model related to event rate\n",
    "    Parameters\n",
    "    ----------\n",
    "    target : Matrix with dependent or target data, where rows are observations\n",
    "\n",
    "    predicted : Matrix with predicted data, where rows are observations\n",
    "\n",
    "    Returns\n",
    "    -------     \n",
    "    list type, with optimal cutoff value\n",
    "\n",
    "    \"\"\"\n",
    "    fpr, tpr, threshold = roc_curve(target, predicted)\n",
    "    i = np.arange(len(tpr)) \n",
    "    roc = pd.DataFrame({'tf' : pd.Series(tpr-(1-fpr), index=i), 'threshold' : pd.Series(threshold, index=i)})\n",
    "    roc_t = roc.loc[(roc.tf-0).abs().argsort()[:1]]\n",
    "\n",
    "    return list(roc_t['threshold']) \n",
    "\n",
    "\n",
    "# Find optimal probability threshold\n",
    "threshold = Find_Optimal_Cutoff(y_pred_val, y_val)\n",
    "print (threshold)\n"
   ]
  },
  {
   "cell_type": "code",
   "execution_count": 38,
   "metadata": {},
   "outputs": [
    {
     "name": "stdout",
     "output_type": "stream",
     "text": [
      "0.45652173913043476\n"
     ]
    }
   ],
   "source": [
    "threshold = 1.0\n",
    "\n",
    "predicted_proba = logistic.predict_proba(rescaledX_test)\n",
    "predicted = (predicted_proba [:,1] >= threshold).astype('bool')\n",
    "\n",
    "accuracy = accuracy_score(y_test, predicted)\n",
    "print(accuracy)"
   ]
  },
  {
   "cell_type": "code",
   "execution_count": 39,
   "metadata": {},
   "outputs": [
    {
     "name": "stdout",
     "output_type": "stream",
     "text": [
      "(1, 11)\n",
      "Model coefficients:  [-1.0270284] [[  1.12803719   0.           8.82999267  -4.33672888  -1.07569229\n",
      "   -4.20059799  -3.61188898  -0.24285506  -7.66118336  -0.07004495\n",
      "  -35.11964285]]\n",
      "Score 0.8684807256235828\n"
     ]
    }
   ],
   "source": [
    "print(logistic.coef_.shape)\n",
    "print(\"Model coefficients: \", logistic.intercept_, logistic.coef_)\n",
    "print(\"Score\", logistic.score(rescaledX_train, y_train))\n"
   ]
  },
  {
   "cell_type": "code",
   "execution_count": 40,
   "metadata": {},
   "outputs": [
    {
     "name": "stdout",
     "output_type": "stream",
     "text": [
      "Logistic regression\n",
      "AUC of Logistic Regression is:  0.9431623931623931\n",
      "F1:  0.9036001200628565\n",
      "Precission:  0.9346153846153846\n",
      "Recall:  0.8799999999999999\n",
      "Accuracy: 0.6304347826086957\n"
     ]
    },
    {
     "name": "stderr",
     "output_type": "stream",
     "text": [
      "/usr/local/lib/python3.7/site-packages/sklearn/linear_model/logistic.py:433: FutureWarning: Default solver will be changed to 'lbfgs' in 0.22. Specify a solver to silence this warning.\n",
      "  FutureWarning)\n"
     ]
    }
   ],
   "source": [
    "#instantiate LogReg with the best parameters\n",
    "logistic = LogisticRegression(C=21.544346900318832, penalty='l1')\n",
    "#fit the test data\n",
    "logistic.fit(rescaledX_train, y_train)\n",
    "#predict\n",
    "y_pred= logistic.predict(rescaledX_test)\n",
    "\n",
    "print(\"Logistic regression\")\n",
    "roc_logreg = cross_val_score(logreg, rescaledX_test, y_test, scoring='roc_auc', cv = 5).mean()\n",
    "f1_logreg = cross_val_score(logreg, rescaledX_test, y_test, scoring='f1', cv = 5).mean()\n",
    "precision_logreg = cross_val_score(logreg, rescaledX_test, y_test, scoring='precision', cv = 5).mean()\n",
    "rec_logreg = cross_val_score(logreg, rescaledX_test, y_test, scoring='recall', cv = 5).mean()\n",
    "print(\"AUC of Logistic Regression is: \" , roc_logreg)\n",
    "print(\"F1: \" , f1_logreg)\n",
    "print(\"Precission: \" , precision_logreg)\n",
    "print(\"Recall: \" , rec_logreg)\n",
    "print(\"Accuracy:\", metrics.accuracy_score(y_test, y_pred))"
   ]
  },
  {
   "cell_type": "code",
   "execution_count": null,
   "metadata": {},
   "outputs": [],
   "source": []
  }
 ],
 "metadata": {
  "kernelspec": {
   "display_name": "Python 3",
   "language": "python",
   "name": "python3"
  },
  "language_info": {
   "codemirror_mode": {
    "name": "ipython",
    "version": 3
   },
   "file_extension": ".py",
   "mimetype": "text/x-python",
   "name": "python",
   "nbconvert_exporter": "python",
   "pygments_lexer": "ipython3",
   "version": "3.7.3"
  }
 },
 "nbformat": 4,
 "nbformat_minor": 2
}
